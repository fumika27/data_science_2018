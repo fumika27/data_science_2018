{
 "cells": [
  {
   "cell_type": "markdown",
   "metadata": {},
   "source": [
    "## 2.3.4 나이브 베이즈 분류기 (naive bayes)\n",
    "- 선형 분류기보다 훈력 속도가 빠르나 일반화 성능이 조금 느림\n",
    "- 각 특성을 개별로 취급해 파라미터를 학습하고 각 특성에서 클래스별 통계를 단순하게 취합하기 때문\n",
    "- sklean에서 구현된 나이브 베이즈 분류기는 GaussianNB, BernoulliNB, MultinomialNB\n",
    "- GaussianNB는 연속적인 어떤 데이터에도 적용 가능\n",
    "- BernoulliNB는 이진 테이터에 적용\n",
    "- MultinomialNB는 카운트 데이터 (특성이 어떤 것을 헤아린 정수 카운트 -> 문장에 나타난 단어의 횟수)에 적용\n",
    "- 텍스트 데이터 분류할 때 사용"
   ]
  },
  {
   "cell_type": "code",
   "execution_count": 3,
   "metadata": {},
   "outputs": [],
   "source": [
    "%matplotlib inline\n",
    "import sys \n",
    "sys.path.append('..')\n",
    "from preamble import *"
   ]
  },
  {
   "cell_type": "code",
   "execution_count": 4,
   "metadata": {},
   "outputs": [],
   "source": [
    "X = np.array([[0, 1, 0, 1],\n",
    "              [1, 0, 1, 1],\n",
    "              [0, 0, 0, 1],\n",
    "              [1, 0, 1, 0]])\n",
    "y = np.array([0, 1, 0, 1])"
   ]
  },
  {
   "cell_type": "code",
   "execution_count": 5,
   "metadata": {},
   "outputs": [
    {
     "name": "stdout",
     "output_type": "stream",
     "text": [
      "feature count:\n",
      "{0: array([0, 1, 0, 2]), 1: array([2, 0, 2, 1])}\n"
     ]
    }
   ],
   "source": [
    "counts = {}\n",
    "for label in np.unique(y):\n",
    "    # 클래스마다 반복\n",
    "    # 특성마다 1이 나타난 횟수를 셈\n",
    "    counts[label] = X[y == label].sum(axis=0)\n",
    "print(\"feature count:\\n{}\".format(counts))"
   ]
  },
  {
   "cell_type": "markdown",
   "metadata": {},
   "source": [
    "## 장단점과 매개변수\n",
    "- MultinomialNB와 BernoulliNB는 모델의 복잡도를 조절하는 alpha 매개변수 하나를 가지고 있음\n",
    "- alpha가 주어지면 알고리즘이 모든 특성에 양의 값을 가진 가상의 데이터 포인트를 alpha 개수만큼 추가\n",
    "    - 통계 데이터를 완만하게 만듦\n",
    "    - alpha가 크면 더 완만해지고 모델 복잡도는 낮아짐\n",
    "- alpha 에 따른 알고리즘 성능 변동은 비교적 크지는 않음 -> alpha 값이 성능 향상에 크게 기여하지 않음 -> 단 조절 시 정확도를 높일 수 있음\n",
    "- GaussianNB는 대부분 매우 고차원인 데이터셋에 사용하고, 다른 두 나이브 베이즈 모델은 텍스트 같은 희소한 데이터를 카운트 하는 데 사용\n",
    "- MultinomialNB는 보통 0이 아닌 특성이 비교적 많은 데이터셋에서 BernoulliNB보다 성능이 높음\n",
    "- 나이브 베이즈 모델과 선형 모델의 장단점은 비슷함\n",
    "    - 훈련과 예측 속도가 빠르고 훈련 과정을 이해하기 쉬움\n",
    "    - 희소한 고차원 데이터에서 잘 작동\n",
    "    - 비교적 매개변수에 민감하지 않음\n",
    "    - 선형 모델로 학습 시간이 오래걸리는 큰 데이터셋에 대해 나이브 베이즈 모델을 시도해볼 수 있음"
   ]
  },
  {
   "cell_type": "code",
   "execution_count": null,
   "metadata": {},
   "outputs": [],
   "source": []
  }
 ],
 "metadata": {
  "kernelspec": {
   "display_name": "Python 3",
   "language": "python",
   "name": "python3"
  },
  "language_info": {
   "codemirror_mode": {
    "name": "ipython",
    "version": 3
   },
   "file_extension": ".py",
   "mimetype": "text/x-python",
   "name": "python",
   "nbconvert_exporter": "python",
   "pygments_lexer": "ipython3",
   "version": "3.6.4"
  }
 },
 "nbformat": 4,
 "nbformat_minor": 2
}
